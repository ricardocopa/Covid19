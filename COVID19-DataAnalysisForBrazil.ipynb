{
 "cells": [
  {
   "cell_type": "markdown",
   "metadata": {},
   "source": [
    "<table width=100%>\n",
    "    <col width=200>\n",
    "    <tr>\n",
    "        <td bgcolor=\"#eee\" style=\"text-align:left\" colspan=\"2\">\n",
    "            <font size=\"5\"><b>Analysis of COVID-19 Infections and Death Data of Brazil</b></font></td>\n",
    "    <tr>\n",
    "    <tr>\n",
    "        <td bgcolor=\"#eee\" style=\"text-align:left\"><b>Project creation date:</b> </td>\n",
    "        <td bgcolor=\"#eee\" style=\"text-align:left\"> May 6, 2020 </td>\n",
    "    </tr>\n",
    "        <td bgcolor=\"#eee\" style=\"text-align:left\"><b>Dataset from Ministry of Health:</b> </td>\n",
    "        <td bgcolor=\"#eee\" style=\"text-align:left\">  <a href=\"https://covid.saude.gov.br\">https://covid.saude.gov.br</a> </td>\n",
    "    </tr>\n",
    "    <tr>\n",
    "        <td bgcolor=\"#eee\" style=\"text-align:left\"><b>Project author:</b> </td>\n",
    "        <td bgcolor=\"#eee\" style=\"text-align:left\"> Ricardo Szczerbacki (<a href=\"mailto:ricardo@rj1.info\">ricardo@rj1.info</a>) </td>\n",
    "    </tr>\n",
    "    <tr>\n",
    "        <td bgcolor=\"#eee\" style=\"text-align:left\"><b>Project on Github:</b></td>\n",
    "        <td bgcolor=\"#eee\" style=\"text-align:left\"><a href=\"https://github.com/ricardocopa/Covid19\">https://github.com/ricardocopa/Covid19</a></td>\n",
    "    </tr>\n",
    "    <tr>\n",
    "        <td bgcolor=\"#eee\" style=\"text-align:left\"><b>License:</b></b></td>\n",
    "        <td bgcolor=\"#eee\" style=\"text-align:left\"><a href=\"license.html\">MIT License</a></td></a> \n",
    "    </tr>\n",
    "    \n",
    "</table>"
   ]
  },
  {
   "cell_type": "code",
   "execution_count": null,
   "metadata": {},
   "outputs": [],
   "source": [
    "import numpy as np\n",
    "import pandas as pd\n",
    "from IPython.display import HTML, Markdown\n",
    "from datetime import datetime\n",
    "import matplotlib.pyplot as plt\n",
    "import matplotlib.dates as mdates\n",
    "import seaborn as sns\n",
    "\n",
    "import locale\n",
    "locale.setlocale(locale.LC_ALL, 'en_us.utf-8')\n",
    "\n",
    "import warnings\n",
    "warnings.filterwarnings('ignore')\n"
   ]
  },
  {
   "cell_type": "code",
   "execution_count": null,
   "metadata": {
    "scrolled": false
   },
   "outputs": [],
   "source": [
    "    display(HTML('''\n",
    "    <link rel=\"stylesheet\" href=\"https://cdn.jupyter.org/notebook/5.1.0/style/style.min.css\">\n",
    "    <script>\n",
    "        code_show=true; \n",
    "        \n",
    "        function code_toggle() {\n",
    "            if (code_show){\n",
    "                $('div.input').hide();\n",
    "            } else {\n",
    "                $('div.input').show();\n",
    "            }\n",
    "            code_show = !code_show\n",
    "        } \n",
    "        $( document ).ready(code_toggle);\n",
    "    </script>\n",
    "    \n",
    "    Python source code is hidden by default for better visualization.\n",
    "    To toggle source code visualization click <a href=\"javascript:code_toggle()\">here</a>.'''))"
   ]
  },
  {
   "cell_type": "markdown",
   "metadata": {},
   "source": [
    "### Loading Dataset\n",
    "File __HIST_PAINEL_COVIDBR.xlsx__ downloaded from brazilian Ministry of Health <br>"
   ]
  },
  {
   "cell_type": "code",
   "execution_count": null,
   "metadata": {},
   "outputs": [],
   "source": [
    "datasetFileName = 'HIST_PAINEL_COVIDBR.xlsx'"
   ]
  },
  {
   "cell_type": "code",
   "execution_count": null,
   "metadata": {},
   "outputs": [],
   "source": [
    "html_code = '''\n",
    "You can download the dataset file originally used by clicking <a href=\"http://covid.rj1.info/{}\">here</a>\n",
    "'''.format(datasetFileName)\n",
    "\n",
    "display(HTML(html_code))"
   ]
  },
  {
   "cell_type": "markdown",
   "metadata": {},
   "source": [
    "File contents (first 5 rows):"
   ]
  },
  {
   "cell_type": "code",
   "execution_count": null,
   "metadata": {
    "scrolled": true
   },
   "outputs": [],
   "source": [
    "# how files where made available until May 10 2020 \n",
    "# covid = pd.read_csv('arquivo_geral.csv', delimiter = ';') \n",
    "covidFull = pd.read_excel(datasetFileName, sheet_name='Sheet 1')\n",
    "print('Columns: Region, State, City, State Code, City Code, Health Region Code, Health Region Name,  Date, Week, Population 2019, Total Infections, New Infections, Total Deaths, New Deaths, Total Recovered, New Patients')\n",
    "display(covidFull.head())\n",
    "\n",
    "# converting to the old file format\n",
    "covid = covidFull[covidFull.estado.notnull()]\n",
    "covid = covid[covid.codmun.isnull()]\n",
    "covid.data = covid.data.dt.strftime('%Y-%m-%d')\n",
    "covid = covid[['regiao', 'estado', 'data', 'casosNovos', 'casosAcumulado', 'obitosNovos', 'obitosAcumulado']]\n",
    "covid.columns = ['regiao', 'estado', 'data', 'casosNovos', 'casosAcumulados', 'obitosNovos', 'obitosAcumulados'] \n",
    "\n",
    "# preparing a dataframe for the Rio de Janeiro city\n",
    "covidRioDeJaneiro = covidFull.loc[covidFull['municipio'] == 'Rio de Janeiro']\n",
    "covidRioDeJaneiro = covidRioDeJaneiro[['regiao', 'estado', 'data', 'casosNovos', 'casosAcumulado', 'obitosNovos', 'obitosAcumulado']]\n",
    "covidRioDeJaneiro.columns = ['regiao', 'estado', 'data', 'casosNovos', 'casosAcumulados', 'obitosNovos', 'obitosAcumulados'] \n"
   ]
  },
  {
   "cell_type": "code",
   "execution_count": null,
   "metadata": {},
   "outputs": [],
   "source": [
    "firstDateData = datetime.strptime(covid['data'].min(), '%Y-%m-%d').strftime('%d/%m/%Y')  \n",
    "lastDayData = datetime.strptime(covid['data'].max(), '%Y-%m-%d').strftime('%d/%m/%Y')  \n",
    "numberOfDaysData = covid['data'].nunique()\n",
    "\n",
    "\n",
    "covidMaxDeaths = covid.sort_values('obitosNovos', ascending = False).iloc[0]\n",
    "maxDeathsValue = covidMaxDeaths['obitosNovos']\n",
    "maxDeathsState = covidMaxDeaths['estado']\n",
    "maxDeathsDay = datetime.strptime(covidMaxDeaths['data'], '%Y-%m-%d').strftime('%d/%m/%Y') \n",
    "\n",
    "covidRJ = covid.loc[covid['estado'] == 'RJ']\n",
    "covidMaxDeathsRJ = covidRJ.sort_values('obitosNovos', ascending = False).iloc[0]\n",
    "maxDeathsRJValue = covidMaxDeathsRJ['obitosNovos']\n",
    "maxDeathsRJDay = datetime.strptime(covidMaxDeathsRJ['data'], '%Y-%m-%d').strftime('%d/%m/%Y') \n",
    "\n",
    "covidMaxDeathsBR = covid.groupby('data')['obitosNovos'].sum().reset_index(name ='obitosNovos')\n",
    "covidMaxDeathsBR = covidMaxDeathsBR.sort_values('obitosNovos', ascending = False).iloc[0]\n",
    "maxDeathsValueBR = covidMaxDeathsBR['obitosNovos']\n",
    "maxDeathsDayBR = datetime.strptime(covidMaxDeathsBR['data'], '%Y-%m-%d').strftime('%d/%m/%Y') \n",
    "\n",
    "html_code = '''\n",
    "<div style=\"\n",
    "  background-color:LightGoldenRodYellow;\n",
    "  border-style: solid;\n",
    "  padding-top: 10px;\n",
    "  padding-right: 10px;\n",
    "  padding-bottom: 20px;\n",
    "  padding-left: 10px;\">\n",
    "<img style=\"float: right;\" width=30px, height=30px src=\"info2.png\"> \n",
    "<h2> Some General Information About the Dataset </h2>\n",
    "<p style=\"font-size:18px\"> The file have data from <b>{}</b> to <b>{}</b></p>\n",
    "<p style=\"font-size:18px\"> <b>{}</b> was the state with the greater number of deaths in one day. There were <b>{:n}</b> deaths on <b>{}</b>. </p>\n",
    "<p style=\"font-size:18px\"> The day with the greater number of deaths in <b>RJ</b> happend on <b>{}</b>, with a total of <b>{:n}</b> deaths registered. </p>\n",
    "<p style=\"font-size:18px\"> The day with the greater number of deaths all over Brazil happend on <b>{}</b>, with a total of <b>{:n}</b> deaths registered. </p>\n",
    "<p style=\"font-size:18px\"> <b>PS</b>: All dates in this page are displayed in the format: DD/MM/YYYY</p>\n",
    "</div>\n",
    "\n",
    "'''.format(firstDateData, lastDayData, maxDeathsState, maxDeathsValue, maxDeathsDay, maxDeathsRJDay, maxDeathsRJValue, maxDeathsDayBR, maxDeathsValueBR)\n",
    "\n",
    "display(HTML(html_code))\n",
    "\n"
   ]
  },
  {
   "cell_type": "code",
   "execution_count": null,
   "metadata": {},
   "outputs": [],
   "source": [
    "# Creating normalized columns for infections and deaths by dividing it by the population multiplied by a million (cases per million people). Source for brazilian population data: IBGE population estimation for 2019\n",
    "# https://pt.wikipedia.org/wiki/Lista_de_unidades_federativas_do_Brasil_por_popula%C3%A7%C3%A3o\n",
    "\n",
    "data = {'state': ['AC','AL','AP','AM','BA','CE','DF',\n",
    "                   'ES','GO','MA','MT','MS','MG','PA',\n",
    "                   'PB','PR','PE','PI','RJ','RN','RS',\n",
    "                   'RO','RR','SC','SP','SE','TO'],\n",
    "        'population': [881935, 3337357, 845731, 4144597, 14873064, 9132078, 3015268, \n",
    "                       4018650, 7018354, 7075181, 3484466, 2778986, 21168791, 8602865,\n",
    "                       4018127, 11433957, 9557071, 3273227, 17264943, 3506853, 11377239,\n",
    "                       1777225, 605761, 7164788, 45919049, 2298696, 1572866]\n",
    "       }\n",
    "\n",
    "populationByState = pd.DataFrame (data, columns = ['state','population'])\n",
    "\n",
    "covid = covid.merge(populationByState, left_on='estado', right_on='state')\n",
    "\n",
    "covid['normTotalInfections'] = covid['casosAcumulados']/covid['population'] * 1000000.\n",
    "covid['normTotalDeaths'] = covid['obitosAcumulados']/covid['population'] * 1000000.\n"
   ]
  },
  {
   "cell_type": "code",
   "execution_count": null,
   "metadata": {
    "scrolled": true
   },
   "outputs": [],
   "source": [
    "lastDay = covid['data'].max()\n",
    "lastDayFormatted = datetime.strptime(lastDay, '%Y-%m-%d').strftime('%d/%m/%Y')\n",
    "\n",
    "covidLastDay = covid.loc[covid['data'] == lastDay]\n",
    "\n",
    "infectionsBR = covidLastDay.sum()['casosAcumulados']\n",
    "deathsBR = covidLastDay.sum()['obitosAcumulados']\n",
    "infectionsLastDayBR = covidLastDay.sum()['casosNovos']\n",
    "deathsLastDayBR = covidLastDay.sum()['obitosNovos']\n",
    "\n",
    "covidRJ = covidLastDay.loc[covid['estado'] == 'RJ']\n",
    "\n",
    "infectionsLastDayRJ = covidRJ.sum()['casosNovos']\n",
    "deathsLastDayRJ = covidRJ.sum()['obitosNovos']\n",
    "infectionsRJ = covidRJ.sum()['casosAcumulados']\n",
    "deathsRJ = covidRJ.sum()['obitosAcumulados']\n",
    "\n",
    "html_code = '''\n",
    "<div style=\"\n",
    "  background-color:LightGoldenRodYellow;\n",
    "  border-style: solid;\n",
    "  padding-top: 10px;\n",
    "  padding-right: 10px;\n",
    "  padding-bottom: 20px;\n",
    "  padding-left: 10px;\">\n",
    "<img style=\"float: right;\" width=30px, height=30px src=\"info2.png\"> \n",
    "<h2> Numbers for the Last 24 Hours </h2>\n",
    "<p style=\"font-size:18px\"> <b>{}</b> is the last day in the dataset.</p>\n",
    "<p>\n",
    "<p style=\"font-size:18px\"> <b>{:n} infections</b> were confirmed in <b>Brazil</b> on this day, of <b>{:n} total infections</b>. </p>\n",
    "<p style=\"font-size:18px\"> <b>{:n} deaths</b> were confirmed in <b>Brazil</b> on this day, of <b>{:n} total deaths</b>. </p>\n",
    "<p>\n",
    "<p style=\"font-size:18px\"> <b>{:n} infections</b> were confirmed in <b>RJ</b> on this day, of <b>{:n} total infections</b>. </p>\n",
    "<p style=\"font-size:18px\"> <b>{:n} deaths</b> were confirmed in <b>RJ</b> on this day, of <b>{:n} total deaths</b>. </p>\n",
    "</div>\n",
    "\n",
    "'''.format(lastDayFormatted, infectionsLastDayBR, infectionsBR, deathsLastDayBR, deathsBR,\n",
    "          infectionsLastDayRJ, infectionsRJ, deathsLastDayRJ, deathsRJ)\n",
    "\n",
    "display(HTML(html_code))\n"
   ]
  },
  {
   "cell_type": "markdown",
   "metadata": {},
   "source": [
    "### Last Known Status for Some Countries\n",
    "Using the last information updated in https://en.wikipedia.org/wiki/COVID-19_pandemic_death_rates_by_country, I list below the 3 countries in the worst situation (deaths per million people), the 3 countries in the best situation and other 3 countries of interest  (Brazil, France and Israel), showing their position in the world ranking in the first column."
   ]
  },
  {
   "cell_type": "code",
   "execution_count": null,
   "metadata": {},
   "outputs": [],
   "source": [
    "import requests\n",
    "\n",
    "# Get countries numbers from Wikipedia\n",
    "wikiURL = 'https://en.wikipedia.org/wiki/COVID-19_pandemic_death_rates_by_country'\n",
    "\n",
    "# Get the date of the last update\n",
    "requestWiki = requests.get(wikiURL)\n",
    "searchText = 'mortality by country as of '\n",
    "startPos = requestWiki.text.find(searchText) + len(searchText);\n",
    "searchText = '.'\n",
    "endPos = requestWiki.text.find(searchText, startPos)\n",
    "wikiLastUpdate = requestWiki.text[startPos:endPos]\n",
    "\n",
    "# Get the numbers for all countries\n",
    "covidByCountryTables = pd.read_html(wikiURL)\n",
    "covidByCountry = covidByCountryTables[1]\n",
    "covidByCountry = covidByCountry.iloc[1:]\n",
    "covidByCountry = covidByCountry[[0, 4]]\n",
    "covidByCountry.columns = ['Country', 'Deaths/MM inhab.']\n",
    "\n",
    "# Multiply the deaths by ten so we end up with the Deaths/MM inhab.\n",
    "print(covidByCountry.shape)\n",
    "covidByCountry['Deaths/MM inhab.'] =  pd.to_numeric(covidByCountry['Deaths/MM inhab.']) * 10\n",
    "covidByCountry.sort_values('Deaths/MM inhab.', ascending=False, inplace=True)\n",
    "covidByCountry.reset_index(inplace = True)\n",
    "covidByCountry['Ranking'] = covidByCountry.index+1\n",
    "covidByCountry = covidByCountry[['Ranking', 'Country', 'Deaths/MM inhab.']]\n",
    "\n",
    "# Remove the countries with no registered numbers\n",
    "covidByCountry = covidByCountry.loc[covidByCountry['Deaths/MM inhab.'] > 0]\n",
    "\n",
    "# Get the 3 best and the 3 worst status countries\n",
    "worst1StatusCountry = covidByCountry.iloc[0]['Country']\n",
    "worst2StatusCountry = covidByCountry.iloc[1]['Country']\n",
    "worst3StatusCountry = covidByCountry.iloc[2]['Country']\n",
    "best1StatusCountry = covidByCountry.iloc[-1]['Country']\n",
    "best2StatusCountry = covidByCountry.iloc[-2]['Country']\n",
    "best3StatusCountry = covidByCountry.iloc[-3]['Country']\n",
    "\n",
    "# Filter only the desired countries (3 best, 3 worst, Brazil, France and Israel)\n",
    "covidByCountrySelected = covidByCountry.loc[covidByCountry['Country'].isin([worst1StatusCountry, \n",
    "                                                                    worst2StatusCountry, \n",
    "                                                                    worst3StatusCountry, \n",
    "                                                                    best1StatusCountry,\n",
    "                                                                    best2StatusCountry,\n",
    "                                                                    best3StatusCountry,\n",
    "                                                                    'Brazil', 'France', 'Israel'])]\n",
    "\n",
    "#display(covidByCountrySelected)\n",
    "display(HTML(covidByCountrySelected.to_html(index=False)))\n",
    "display(Markdown('*Information updated on ' + wikiLastUpdate))\n"
   ]
  },
  {
   "cell_type": "code",
   "execution_count": null,
   "metadata": {},
   "outputs": [],
   "source": [
    "# Plot the distribution of deaths/MM inhab. per country showing the countries of interest (Brazil, France and Israel)\n",
    "covidByCountry = covidByCountry[['Country', 'Deaths/MM inhab.']]\n",
    "covidByCountryBrazil = covidByCountry.loc[covidByCountry['Country'] == 'Brazil']\n",
    "covidByCountryFrance = covidByCountry.loc[covidByCountry['Country'] == 'France']\n",
    "covidByCountryIsrael = covidByCountry.loc[covidByCountry['Country'] == 'Israel']\n",
    "\n",
    "axis = covidByCountry.plot()\n",
    "axis.axes.get_xaxis().set_visible(False)\n",
    "covidByCountryBrazil.plot(ax=axis, linestyle='',marker='o', markersize=12, color='green')\n",
    "covidByCountryFrance.plot(ax=axis, linestyle='',marker='o', markersize=12, color='red')\n",
    "covidByCountryIsrael.plot(ax=axis, linestyle='',marker='o', markersize=12, color='blue')\n",
    "axis.legend(['Deaths/MM inhab.', 'Brazil', 'France', 'Israel'])\n",
    "plt.show()"
   ]
  },
  {
   "cell_type": "code",
   "execution_count": null,
   "metadata": {},
   "outputs": [],
   "source": [
    "covidLastDay = covidLastDay[['estado','casosAcumulados', 'obitosAcumulados', 'normTotalInfections', 'normTotalDeaths']]\n",
    "covidLastDay.sort_values('normTotalDeaths', ascending=False, inplace=True)\n",
    "covidLastDay.set_index('estado', inplace=True)\n",
    "covidLastDay2 = covidLastDay.copy()\n",
    "covidLastDay2.columns = ['Infections', 'Deaths', 'Infections/MM inh.', 'Deaths/MM inh.']"
   ]
  },
  {
   "cell_type": "code",
   "execution_count": null,
   "metadata": {},
   "outputs": [],
   "source": [
    "html_code = '''\n",
    "<div style=\"\n",
    "  background-color:LightGoldenRodYellow;\n",
    "  border-style: solid;\n",
    "  padding-top: 10px;\n",
    "  padding-right: 10px;\n",
    "  padding-bottom: 40px;\n",
    "  padding-left: 10px;\">\n",
    "<img style=\"float: right;\" width=30px, height=30px src=\"info2.png\"> \n",
    "<h2> Infections and Deaths by State </h2>\n",
    "<p style=\"font-size:18px\"> Sorted by the severity (deaths per million people). States in worse situation are near the top. </p>\n",
    "<p style=\"font-size:18px\"> The k-means method was used for clustering the states in 3 classes of severity. </p>\n",
    "</div>\n",
    "'''\n",
    "display(HTML(html_code))"
   ]
  },
  {
   "cell_type": "code",
   "execution_count": null,
   "metadata": {},
   "outputs": [],
   "source": [
    "from sklearn.cluster import KMeans\n",
    "\n",
    "kmeans = KMeans(n_clusters=3, random_state=42)\n",
    "\n",
    "covidLastDay['myClass'] = kmeans.fit_predict(covidLastDay[['normTotalDeaths']])"
   ]
  },
  {
   "cell_type": "code",
   "execution_count": null,
   "metadata": {},
   "outputs": [],
   "source": [
    "worstClass = covidLastDay.iloc[0]['myClass']\n",
    "bestClass = covidLastDay.iloc[-1]['myClass']\n",
    "\n",
    "def highlight(s):\n",
    "    tamanho = s.size\n",
    "    if s.myClass == worstClass:\n",
    "        return ['background-color: orange']*tamanho\n",
    "    elif s.myClass != bestClass:\n",
    "        return ['background-color: yellow']*tamanho\n",
    "    else:\n",
    "        return ['background-color: white']*tamanho\n",
    "\n",
    "covidLastDay.reset_index(inplace=True)\n",
    "\n",
    "covidLastDay2 = covidLastDay.copy()\n",
    "\n",
    "covidLastDay2.columns=['State', 'Infections', 'Deaths', 'Infections/MM inhab.', 'Deaths/MM inhab.', 'myClass']\n",
    "\n",
    "display(covidLastDay2.style.apply(highlight, axis=1))\n",
    "\n",
    "    "
   ]
  },
  {
   "cell_type": "markdown",
   "metadata": {},
   "source": [
    "### Comparing Infections and Deaths by State\n",
    "Using absolute values"
   ]
  },
  {
   "cell_type": "code",
   "execution_count": null,
   "metadata": {},
   "outputs": [],
   "source": [
    "covidLastDayPie1 = covidLastDay[['estado','casosAcumulados', 'obitosAcumulados']]\n",
    "covidLastDayPie1.set_index('estado', inplace=True)\n",
    "plot = covidLastDayPie1.plot.pie(fontsize=24, subplots=True, layout=(1, 2), figsize=(30, 15), legend=None)"
   ]
  },
  {
   "cell_type": "markdown",
   "metadata": {},
   "source": [
    "### Comparing Infections and Deaths per Million Inhabitans, per State"
   ]
  },
  {
   "cell_type": "code",
   "execution_count": null,
   "metadata": {},
   "outputs": [],
   "source": [
    "covidLastDayPie2 = covidLastDay[['estado','normTotalInfections', 'normTotalDeaths']]\n",
    "covidLastDayPie2.set_index('estado', inplace=True)\n",
    "plot = covidLastDayPie2.plot.pie(fontsize=24, subplots=True, layout=(1, 2), figsize=(30, 15), legend=None)"
   ]
  },
  {
   "cell_type": "markdown",
   "metadata": {},
   "source": [
    "### Plots of cumulative infections and deaths"
   ]
  },
  {
   "cell_type": "code",
   "execution_count": null,
   "metadata": {},
   "outputs": [],
   "source": [
    "covid['data'] = pd.to_datetime(covid['data'], format='%Y-%m-%d')\n",
    "\n",
    "covidByDayBR = covid[['data', 'casosAcumulados', 'obitosAcumulados']].groupby('data').sum()\n",
    "covidByDayBR.reset_index(inplace=True)\n",
    "covidByDayBR.set_index(['data'],inplace=True)\n",
    "\n",
    "covidByDayRJ = covid.loc[covid['estado'] == 'RJ'][['data', 'casosAcumulados', 'obitosAcumulados', 'normTotalInfections', 'normTotalDeaths']]\n",
    "covidByDayRJ.reset_index(inplace=True)\n",
    "covidByDayRJ.set_index(['data'],inplace=True)\n",
    "\n",
    "axis = covidByDayBR.plot(legend=False, style='o-', figsize=(18, 9), y='casosAcumulados', title='Infections in Brazil')\n",
    "plt.gcf().autofmt_xdate()\n",
    "plt.minorticks_off()\n",
    "axis.xaxis.set_major_formatter(mdates.DateFormatter('%d/%m'))\n",
    "axis.xaxis.set_major_locator(mdates.DayLocator(interval=5))\n",
    "axis.xaxis.get_label().set_visible(False)\n",
    "\n",
    "plt.show()"
   ]
  },
  {
   "cell_type": "code",
   "execution_count": null,
   "metadata": {},
   "outputs": [],
   "source": [
    "axis = covidByDayBR.plot(legend=False, style='o-',figsize=(18, 9), y='obitosAcumulados', title='Deaths in Brazil')\n",
    "plt.gcf().autofmt_xdate()\n",
    "axis.xaxis.set_major_formatter(mdates.DateFormatter('%d/%m'))\n",
    "axis.xaxis.set_major_locator(mdates.DayLocator(interval=5))\n",
    "axis.xaxis.get_label().set_visible(False)"
   ]
  },
  {
   "cell_type": "code",
   "execution_count": null,
   "metadata": {},
   "outputs": [],
   "source": [
    "axis = covidByDayRJ.plot(legend=False,style='o-',figsize=(18, 9), y='casosAcumulados', title='Infections in RJ')\n",
    "plt.gcf().autofmt_xdate()\n",
    "axis.xaxis.set_major_formatter(mdates.DateFormatter('%d/%m'))\n",
    "axis.xaxis.set_major_locator(mdates.DayLocator(interval=5))\n",
    "axis.xaxis.get_label().set_visible(False)"
   ]
  },
  {
   "cell_type": "code",
   "execution_count": null,
   "metadata": {},
   "outputs": [],
   "source": [
    "axis = covidByDayRJ.plot(legend=False, style='o-',figsize=(18, 9), y='obitosAcumulados', title='Deaths in RJ')\n",
    "plt.gcf().autofmt_xdate()\n",
    "axis.xaxis.set_major_formatter(mdates.DateFormatter('%d/%m'))\n",
    "axis.xaxis.set_major_locator(mdates.DayLocator(interval=5))\n",
    "axis.xaxis.get_label().set_visible(False)"
   ]
  },
  {
   "cell_type": "markdown",
   "metadata": {},
   "source": [
    "### Plots of new deaths for Brazil, RJ state and Rio de Janeiro city\n",
    "Rolling mean of the last 7 days for the new deaths by day."
   ]
  },
  {
   "cell_type": "code",
   "execution_count": null,
   "metadata": {},
   "outputs": [],
   "source": [
    "newCovidByDayBR = covid[['data', 'obitosNovos']].groupby('data').sum()\n",
    "newCovidByDayBR.reset_index(inplace=True)\n",
    "newCovidByDayBR.set_index(['data'],inplace=True)\n",
    "newCovidByDayBR['rollingNewDeaths'] = newCovidByDayBR['obitosNovos'].rolling(window=7).mean()\n",
    "\n",
    "axis = newCovidByDayBR.plot(legend=False, style='o-', figsize=(18, 9), y='rollingNewDeaths', title='New deaths in Brazil by day (rolling mean of 7 days)')\n",
    "plt.gcf().autofmt_xdate()\n",
    "plt.minorticks_off()\n",
    "axis.xaxis.set_major_formatter(mdates.DateFormatter('%d/%m'))\n",
    "axis.xaxis.set_major_locator(mdates.DayLocator(interval=5))\n",
    "axis.xaxis.get_label().set_visible(False)\n",
    "\n",
    "plt.show()"
   ]
  },
  {
   "cell_type": "code",
   "execution_count": null,
   "metadata": {},
   "outputs": [],
   "source": [
    "newCovidByDayRJ = covid.loc[covid['estado'] == 'RJ'][['data', 'obitosNovos']]\n",
    "newCovidByDayRJ.reset_index(inplace=True)\n",
    "newCovidByDayRJ.set_index(['data'],inplace=True)\n",
    "newCovidByDayRJ['rollingNewDeaths'] = newCovidByDayRJ['obitosNovos'].rolling(window=7).mean()\n",
    "\n",
    "axis = newCovidByDayRJ.plot(legend=False, style='o-', figsize=(18, 9), y='rollingNewDeaths', title='New deaths in RJ state by day (rolling mean of 7 days)')\n",
    "plt.gcf().autofmt_xdate()\n",
    "plt.minorticks_off()\n",
    "axis.xaxis.set_major_formatter(mdates.DateFormatter('%d/%m'))\n",
    "axis.xaxis.set_major_locator(mdates.DayLocator(interval=5))\n",
    "axis.xaxis.get_label().set_visible(False)\n",
    "\n",
    "plt.show()"
   ]
  },
  {
   "cell_type": "code",
   "execution_count": null,
   "metadata": {
    "scrolled": false
   },
   "outputs": [],
   "source": [
    "newCovidByDayRio = covidRioDeJaneiro[['data', 'obitosNovos']]\n",
    "newCovidByDayRio.reset_index(inplace=True)\n",
    "newCovidByDayRio.set_index(['data'],inplace=True)\n",
    "newCovidByDayRio['rollingNewDeaths'] = newCovidByDayRio['obitosNovos'].rolling(window=7).mean()\n",
    "\n",
    "axis = newCovidByDayRio.plot(legend=False, style='o-', figsize=(18, 9), y='rollingNewDeaths', title='New deaths in Rio de Janeiro City by day (rolling mean of 7 days)')\n",
    "plt.gcf().autofmt_xdate()\n",
    "plt.minorticks_off()\n",
    "axis.xaxis.set_major_formatter(mdates.DateFormatter('%d/%m'))\n",
    "axis.xaxis.set_major_locator(mdates.DayLocator(interval=5))\n",
    "axis.xaxis.get_label().set_visible(False)\n",
    "\n",
    "plt.show()\n"
   ]
  },
  {
   "cell_type": "markdown",
   "metadata": {},
   "source": [
    "### Comparing tendencies of all states in the last 10 days\n",
    "For the log of the deaths data of the last 10 days for all states, I use Linear Regressions to estimate and compare how the situation is evolving. Higher coefficients means that situation is getting worse. "
   ]
  },
  {
   "cell_type": "code",
   "execution_count": null,
   "metadata": {},
   "outputs": [],
   "source": [
    "deathsByDayStates = covid.pivot(index='data', columns='estado', values = 'normTotalDeaths')\n",
    "\n",
    "last10Days = deathsByDayStates.tail(10)"
   ]
  },
  {
   "cell_type": "code",
   "execution_count": null,
   "metadata": {},
   "outputs": [],
   "source": [
    "axis = last10Days.plot(logy=True, figsize=(15,10), title='Last 10 Days Deaths per MM inhab., Log Scale').legend(bbox_to_anchor=(1.1, 1.01))\n",
    "plt.gca().xaxis.get_label().set_visible(False)\n",
    "plt.tick_params(\n",
    "    axis='x',          \n",
    "    which='both',      \n",
    "    bottom=False,      \n",
    "    top=False,         \n",
    "    labelbottom=False) \n",
    "plt.show()"
   ]
  },
  {
   "cell_type": "code",
   "execution_count": null,
   "metadata": {},
   "outputs": [],
   "source": [
    "last10Days['day'] = range(1,11)\n",
    "\n",
    "X_train = last10Days['day']\n",
    "X_train = X_train.values.reshape(-1, 1)\n",
    "\n",
    "data = {'state': [],\n",
    "        'coefficient': []\n",
    "       }\n",
    "coef10days = pd.DataFrame (data, columns = ['state','coefficient'])\n"
   ]
  },
  {
   "cell_type": "code",
   "execution_count": null,
   "metadata": {},
   "outputs": [],
   "source": [
    "from sklearn.linear_model import LinearRegression\n",
    "\n",
    "regression_model = LinearRegression()\n",
    "\n",
    "# Evaluating coefficients \n",
    "for col in last10Days.columns: \n",
    "    if col != 'day':\n",
    "        last10Days[col + 'log'] = np.log(last10Days[col])\n",
    "        regression_model.fit(X_train, last10Days[col + 'log'])\n",
    "        coef10days = coef10days.append(pd.Series([col, regression_model.coef_[0]], index=coef10days.columns), ignore_index=True)\n",
    "\n"
   ]
  },
  {
   "cell_type": "code",
   "execution_count": null,
   "metadata": {},
   "outputs": [],
   "source": [
    "html_code = '''\n",
    "<div style=\"\n",
    "  background-color:LightGoldenRodYellow;\n",
    "  border-style: solid;\n",
    "  padding-top: 10px;\n",
    "  padding-right: 10px;\n",
    "  padding-bottom: 40px;\n",
    "  padding-left: 10px;\">\n",
    "<img style=\"float: right;\" width=30px, height=30px src=\"info2.png\"> \n",
    "<h2> Predictions for the Near Future </h2>\n",
    "<p style=\"font-size:18px\"> Using the linear regression over the log data to estimate the number of deaths in 7, 14 e 30 days. </p>\n",
    "</div>\n",
    "'''\n",
    "display(HTML(html_code))"
   ]
  },
  {
   "cell_type": "markdown",
   "metadata": {},
   "source": [
    "#### All States"
   ]
  },
  {
   "cell_type": "code",
   "execution_count": null,
   "metadata": {},
   "outputs": [],
   "source": [
    "from datetime import timedelta\n",
    "\n",
    "data = {'date': [],\n",
    "        'state': [],\n",
    "        'predictedDeaths': []\n",
    "       }\n",
    "predictedDeaths = pd.DataFrame (data, columns = ['date','state', 'predictedDeaths'])\n",
    "\n",
    "more7Days = 17;\n",
    "more14Days = 24;\n",
    "more30Days = 40;\n",
    "dateMore7Days = (datetime.strptime(lastDay, '%Y-%m-%d') + timedelta(days=7)).strftime(\"%d/%m/%Y\")\n",
    "dateMore14Days = (datetime.strptime(lastDay, '%Y-%m-%d') + timedelta(days=14)).strftime(\"%d/%m/%Y\")\n",
    "dateMore30Days = (datetime.strptime(lastDay, '%Y-%m-%d') + timedelta(days=30)).strftime(\"%d/%m/%Y\")\n",
    "\n",
    "deathsByState = covid.pivot(index='data', columns='estado', values = 'obitosAcumulados')\n",
    "last10Days = deathsByState.tail(10)\n",
    "last10Days['day'] = range(1,11)\n",
    "\n",
    "for col in last10Days.columns: \n",
    "    if col != 'day':\n",
    "        last10Days[col + 'log'] = np.log(last10Days[col])\n",
    "        regression_model.fit(X_train, last10Days[col + 'log'])\n",
    "        \n",
    "        xpredict = np.array([more7Days])\n",
    "        xpredict = xpredict.reshape(-1,1)\n",
    "        prediction = regression_model.predict(xpredict)\n",
    "        predictedDeaths = predictedDeaths.append(pd.Series([dateMore7Days, col, int(np.exp(prediction[0]))], index=predictedDeaths.columns), ignore_index=True)\n",
    "        \n",
    "        xpredict = np.array([more14Days])\n",
    "        xpredict = xpredict.reshape(-1,1)\n",
    "        prediction = regression_model.predict(xpredict)\n",
    "        predictedDeaths = predictedDeaths.append(pd.Series([dateMore14Days, col, int(np.exp(prediction[0]))], index=predictedDeaths.columns), ignore_index=True)\n",
    "        \n",
    "        xpredict = np.array([more30Days])\n",
    "        xpredict = xpredict.reshape(-1,1)\n",
    "        prediction = regression_model.predict(xpredict)\n",
    "        predictedDeaths = predictedDeaths.append(pd.Series([dateMore30Days, col, int(np.exp(prediction[0]))], index=predictedDeaths.columns), ignore_index=True)\n",
    "        \n",
    "predictedDeaths\n",
    "predictedDeathsOut = predictedDeaths.pivot(index='state', columns='date', values = 'predictedDeaths')\n",
    "\n",
    "predictedDeathsOut = predictedDeathsOut[[dateMore7Days, dateMore14Days, dateMore30Days]]\n",
    "\n",
    "predictedDeathsBrazil = predictedDeathsOut.sum().reset_index(name='predictedDeaths')\n",
    "predictedDeathsBrazil = predictedDeathsBrazil.append(pd.Series([lastDayFormatted, deathsBR], index=predictedDeathsBrazil.columns), ignore_index=True)\n",
    "predictedDeathsBrazil.set_index('date', inplace=True)\n",
    "predictedDeathsBrazilOut = predictedDeathsBrazil.transpose()\n",
    "predictedDeathsBrazilOut = predictedDeathsBrazilOut[[lastDayFormatted, dateMore7Days, dateMore14Days, dateMore30Days]]\n",
    "\n",
    "predictedDeathsOut['state'] = predictedDeathsOut.index\n",
    "covidLastDayOut = covidLastDay[['estado', 'obitosAcumulados']][['estado', 'obitosAcumulados']]\n",
    "covidLastDayOut\n",
    "predictedDeathsOut = predictedDeathsOut.merge(covidLastDayOut, left_on='state', right_on='estado')\n",
    "predictedDeathsOut = predictedDeathsOut[['estado', 'obitosAcumulados', dateMore7Days, dateMore14Days, dateMore30Days]]\n",
    "predictedDeathsOut.columns = ['State', lastDayFormatted, dateMore7Days, dateMore14Days, dateMore30Days]\n",
    "\n",
    "pd.options.display.float_format = '{0:g}'.format\n",
    "display(predictedDeathsOut)\n",
    "\n",
    "\n",
    "\n"
   ]
  },
  {
   "cell_type": "markdown",
   "metadata": {},
   "source": [
    "#### Brazil"
   ]
  },
  {
   "cell_type": "code",
   "execution_count": null,
   "metadata": {},
   "outputs": [],
   "source": [
    "predictedDeathsBrazilOut.columns = [lastDayFormatted, dateMore7Days, dateMore14Days, dateMore30Days]\n",
    "predictedDeathsBrazilOut.reset_index(inplace=True)\n",
    "predictedDeathsBrazilOut.drop('index', axis=1, inplace=True)\n",
    "display(predictedDeathsBrazilOut)"
   ]
  },
  {
   "cell_type": "code",
   "execution_count": null,
   "metadata": {},
   "outputs": [],
   "source": [
    "coef10days.sort_values('coefficient',ascending=False,inplace=True)\n",
    "coef10days.set_index('state', inplace=True)"
   ]
  },
  {
   "cell_type": "code",
   "execution_count": null,
   "metadata": {},
   "outputs": [],
   "source": [
    "html_code = '''\n",
    "<div style=\"\n",
    "  background-color:LightGoldenRodYellow;\n",
    "  border-style: solid;\n",
    "  padding-top: 10px;\n",
    "  padding-right: 10px;\n",
    "  padding-bottom: 40px;\n",
    "  padding-left: 10px;\">\n",
    "<img style=\"float: right;\" width=30px, height=30px src=\"info2.png\"> \n",
    "<h2> Clustering the states in 3 classes according to the calculated coefficients </h2>\n",
    "<p style=\"font-size:18px\">  A higher coefficient means a worse tendency for the deaths. </p>\n",
    "</div>\n",
    "'''\n",
    "display(HTML(html_code))"
   ]
  },
  {
   "cell_type": "code",
   "execution_count": null,
   "metadata": {},
   "outputs": [],
   "source": [
    "coef10daysData = pd.DataFrame(coef10days)\n",
    "coef10daysData['state'] = coef10daysData.index\n",
    "coef10daysData = coef10daysData.reset_index(level=0, drop=True)\n",
    "coef10daysData = coef10daysData[['state', 'coefficient']]\n",
    "\n",
    "coef10daysData['myClass'] = kmeans.fit_predict(coef10daysData[['coefficient']])\n",
    "worstClass = coef10daysData.iloc[0]['myClass']\n",
    "bestClass = coef10daysData.iloc[-1]['myClass']\n",
    "\n",
    "display(coef10daysData.style.apply(highlight, axis=1))"
   ]
  },
  {
   "cell_type": "code",
   "execution_count": null,
   "metadata": {},
   "outputs": [],
   "source": [
    "coef10days['Normalized Coefficient'] = (coef10days['coefficient']-coef10days['coefficient'].min())/(coef10days['coefficient'].max()-coef10days['coefficient'].min())\n",
    "\n",
    "_ = coef10days.plot.pie(y='Normalized Coefficient', figsize=(10, 10), legend=False)"
   ]
  },
  {
   "cell_type": "markdown",
   "metadata": {},
   "source": [
    "\n"
   ]
  },
  {
   "cell_type": "markdown",
   "metadata": {},
   "source": [
    "### R curve\n",
    "Estimating R, that represents the basic reproduction rate of the disease. It roughly estimates how many people are infected by one infected person after 14 days, assuming a constant death rate for the infected.\n",
    "\n",
    "It is a very simple and imprecise approach. And, specially, the values in the begining of the plot should be disregarded, because the first notifications of the infections are not representative or reliable.\n",
    "\n",
    "The plot is more of a tendency indicator, than a real value estimator. "
   ]
  },
  {
   "cell_type": "code",
   "execution_count": null,
   "metadata": {},
   "outputs": [],
   "source": [
    "\n",
    "data = {'date': [],\n",
    "        'value': []\n",
    "       }\n",
    "R_Brazil = pd.DataFrame (data, columns = ['date','value'])\n",
    "\n",
    "# Generation Time\n",
    "gt = 14\n",
    "\n",
    "covidDeathsBR = covid.groupby('data')['obitosNovos'].sum().reset_index(name ='obitosNovos')\n",
    "covidDeathsBR['rollingMean'] =covidDeathsBR['obitosNovos'].rolling(window=7).mean()\n",
    "\n",
    "for day in range(covidDeathsBR.shape[0]):\n",
    "    if day >= gt:\n",
    "        if covidDeathsBR.at[day-gt,'rollingMean'] > 0:\n",
    "            Rvalue = float(covidDeathsBR.at[day,'rollingMean'])/float(covidDeathsBR.at[day-gt,'rollingMean'])\n",
    "            if Rvalue <= 4:\n",
    "                R_Brazil = R_Brazil.append(pd.Series([covidDeathsBR.at[day, 'data'], Rvalue], index=R_Brazil.columns), ignore_index=True)\n",
    "\n",
    "R_Brazil['date'] = pd.to_datetime(R_Brazil['date'], format='%Y-%m-%d')\n",
    "\n",
    "R_Brazil.set_index('date', inplace=True)\n",
    "axis = R_Brazil.plot(style='o-', figsize=(18, 9), legend=False, y='value', title='R for Brazil')\n",
    "plt.gcf().autofmt_xdate()\n",
    "plt.minorticks_off()\n",
    "axis.xaxis.set_major_formatter(mdates.DateFormatter('%d/%m'))\n",
    "axis.xaxis.set_major_locator(mdates.DayLocator(interval=5))\n",
    "axis.axhline(1.0, color='gray', lw=2, alpha=0.5)\n",
    "axis.axhline(2.0, color='gray', lw=2, alpha=0.5)\n",
    "axis.axhline(3.0, color='gray', lw=2, alpha=0.5)\n",
    "axis.axhline(4.0, color='red', lw=2, alpha=0.5)\n",
    "axis.fill_between(axis.get_xlim(), 0., 1., facecolor='lightgreen', alpha=0.5)\n",
    "axis.xaxis.get_label().set_visible(False)\n",
    "plt.show()\n",
    "\n",
    "\n"
   ]
  },
  {
   "cell_type": "code",
   "execution_count": null,
   "metadata": {},
   "outputs": [],
   "source": [
    "data = {'date': [],\n",
    "        'state': [],\n",
    "        'value': []\n",
    "       }\n",
    "R_States = pd.DataFrame (data, columns = ['date','state', 'value'])\n",
    "\n",
    "for state in covid.estado.unique():\n",
    "    covidState = covid.loc[covid['estado'] == state]\n",
    "\n",
    "    covidDeathsState = covidState.groupby('data')['obitosNovos'].sum().reset_index(name ='obitosNovos')\n",
    "    covidDeathsState['rollingMean'] =covidDeathsState['obitosNovos'].rolling(window=7).mean()\n",
    "    for day in range(covidDeathsState.shape[0]):\n",
    "        if day >= gt:\n",
    "            if covidDeathsState.at[day-gt,'rollingMean'] > 0:\n",
    "                Rvalue = float(covidDeathsState.at[day,'rollingMean'])/float(covidDeathsState.at[day-gt,'rollingMean'])\n",
    "                R_States = R_States.append(pd.Series([covidDeathsState.at[day, 'data'], state, Rvalue], index=R_States.columns), ignore_index=True)\n",
    "\n",
    "\n",
    "R_States['date'] = pd.to_datetime(R_States['date'], format='%Y-%m-%d')"
   ]
  },
  {
   "cell_type": "code",
   "execution_count": null,
   "metadata": {
    "scrolled": false
   },
   "outputs": [],
   "source": [
    "R_StatesGroup = R_States.loc[R_States['state'].isin(['RJ', 'SP', 'AM'])]\n",
    "R_StatesGroup = R_StatesGroup.pivot(index='date', columns='state', values = 'value')\n",
    "\n",
    "axis = R_StatesGroup.plot(style='o-', figsize=(18, 9), title='R for RJ, SP and AM')\n",
    "plt.gcf().autofmt_xdate()\n",
    "plt.minorticks_off()\n",
    "axis.xaxis.set_major_formatter(mdates.DateFormatter('%d/%m'))\n",
    "axis.xaxis.set_major_locator(mdates.DayLocator(interval=5))\n",
    "axis.axhline(1.0, color='gray', lw=2, alpha=0.5)\n",
    "axis.axhline(2.0, color='gray', lw=2, alpha=0.5)\n",
    "axis.axhline(3.0, color='gray', lw=2, alpha=0.5)\n",
    "axis.axhline(4.0, color='red', lw=2, alpha=0.5)\n",
    "axis.fill_between(axis.get_xlim(), 0., 1., facecolor='lightgreen', alpha=0.5)\n",
    "plt.ylim((0,4))\n",
    "axis.xaxis.get_label().set_visible(False)\n",
    "_ = plt.show()"
   ]
  }
 ],
 "metadata": {
  "kernelspec": {
   "display_name": "Python 3",
   "language": "python",
   "name": "python3"
  },
  "language_info": {
   "codemirror_mode": {
    "name": "ipython",
    "version": 3
   },
   "file_extension": ".py",
   "mimetype": "text/x-python",
   "name": "python",
   "nbconvert_exporter": "python",
   "pygments_lexer": "ipython3",
   "version": "3.7.1"
  }
 },
 "nbformat": 4,
 "nbformat_minor": 2
}
