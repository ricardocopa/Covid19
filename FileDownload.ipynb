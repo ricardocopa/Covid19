{
 "cells": [
  {
   "cell_type": "code",
   "execution_count": null,
   "metadata": {},
   "outputs": [],
   "source": [
    "from selenium import webdriver\n",
    "from selenium.webdriver.firefox.options import Options\n",
    "from time import sleep\n",
    "import shutil\n",
    "import os"
   ]
  },
  {
   "cell_type": "code",
   "execution_count": null,
   "metadata": {},
   "outputs": [],
   "source": [
    "baseDir = os.getcwd() + '\\\\'\n",
    "notebookDir = baseDir\n",
    "downloadDir = baseDir + 'download\\\\'\n",
    "dataDir = baseDir + 'data\\\\'\n",
    "\n",
    "if not os.path.exists(downloadDir):\n",
    "    os.makedirs(downloadDir)\n",
    "\n",
    "if not os.path.exists(dataDir):\n",
    "    os.makedirs(dataDir)"
   ]
  },
  {
   "cell_type": "code",
   "execution_count": null,
   "metadata": {},
   "outputs": [],
   "source": [
    "fp = webdriver.FirefoxProfile()\n",
    "\n",
    "\n",
    "fp = webdriver.FirefoxProfile()\n",
    "fp.set_preference(\"browser.preferences.instantApply\",True)\n",
    "fp.set_preference(\"browser.download.folderList\",2);\n",
    "fp.set_preference(\"browser.download.manager.showWhenStarting\",False);\n",
    "fp.set_preference(\"browser.download.dir\",downloadDir);\n",
    "fp.set_preference(\"browser.helperApps.neverAsk.saveToDisk\",\"application/vnd.openxmlformats-officedocument.spreadsheetml.sheet, application/zip, application/x-zip, application/x-zip-compressed,\");\n",
    "\n",
    "options = Options()\n",
    "options.headless = True\n",
    "\n",
    "# geckodriver executable path must be in the PATH enviroment variable for this to work\n",
    "driver = webdriver.Firefox(firefox_profile=fp, options=options)\n",
    "\n",
    "driver.get(\"https://covid.saude.gov.br/\")\n",
    "driver.execute_script(\"return document.getElementsByTagName('html')[0].innerHTML\")\n",
    "sleep(60)\n",
    "element = driver.find_element_by_xpath('//ion-button[contains(text(), \"CSV\")]')\n",
    "sleep(60)\n",
    "element.click()\n",
    "print(\"Clicou\")\n",
    "sleep(60)\n",
    "driver.quit()\n",
    "print(\"Fechou o firefox\")\n",
    "\n",
    "files = os.listdir(downloadDir)\n",
    "print(files)\n",
    "\n",
    "for f in files:\n",
    "    shutil.copy(downloadDir+f, dataDir)\n",
    "    shutil.move(downloadDir+f, notebookDir+'HIST_PAINEL_COVIDBR.zip')\n",
    "    \n"
   ]
  },
  {
   "cell_type": "code",
   "execution_count": null,
   "metadata": {},
   "outputs": [],
   "source": []
  }
 ],
 "metadata": {
  "kernelspec": {
   "display_name": "Python 3",
   "language": "python",
   "name": "python3"
  },
  "language_info": {
   "codemirror_mode": {
    "name": "ipython",
    "version": 3
   },
   "file_extension": ".py",
   "mimetype": "text/x-python",
   "name": "python",
   "nbconvert_exporter": "python",
   "pygments_lexer": "ipython3",
   "version": "3.7.1"
  }
 },
 "nbformat": 4,
 "nbformat_minor": 2
}
